{
 "cells": [
  {
   "cell_type": "code",
   "execution_count": 1,
   "metadata": {
    "executionInfo": {
     "elapsed": 4002,
     "status": "ok",
     "timestamp": 1610791195915,
     "user": {
      "displayName": "sathish kumar",
      "photoUrl": "",
      "userId": "09811313852492528034"
     },
     "user_tz": -330
    },
    "id": "-JgPqiPJGB0a"
   },
   "outputs": [],
   "source": [
    "import tensorflow as tf\n",
    "import os\n",
    "from tensorflow.keras.preprocessing.image import ImageDataGenerator\n",
    "from tensorflow.keras import layers, models\n",
    "import matplotlib.pyplot as plt\n",
    "import numpy as np\n",
    "from sklearn.model_selection import train_test_split\n",
    "from tensorflow import keras"
   ]
  },
  {
   "cell_type": "code",
   "execution_count": 2,
   "metadata": {
    "executionInfo": {
     "elapsed": 3702,
     "status": "ok",
     "timestamp": 1610791195920,
     "user": {
      "displayName": "sathish kumar",
      "photoUrl": "",
      "userId": "09811313852492528034"
     },
     "user_tz": -330
    },
    "id": "SPWeFH5EGB0n"
   },
   "outputs": [],
   "source": [
    "train_dir='C:/Users/DELL/Desktop/cancer/feane/model/train' # change the path \n",
    "test_dir='C:/Users/DELL/Desktop/cancer/feane/model/test'\n"
   ]
  },
  {
   "cell_type": "code",
   "execution_count": 3,
   "metadata": {
    "executionInfo": {
     "elapsed": 3489,
     "status": "ok",
     "timestamp": 1610791195921,
     "user": {
      "displayName": "sathish kumar",
      "photoUrl": "",
      "userId": "09811313852492528034"
     },
     "user_tz": -330
    },
    "id": "9h-qH8S-GB0p"
   },
   "outputs": [],
   "source": [
    "batch_size = 1\n",
    "epochs = 5\n",
    "img_height = 224\n",
    "img_width = 224"
   ]
  },
  {
   "cell_type": "code",
   "execution_count": 4,
   "metadata": {
    "colab": {
     "base_uri": "https://localhost:8080/"
    },
    "executionInfo": {
     "elapsed": 39745,
     "status": "ok",
     "timestamp": 1610791232328,
     "user": {
      "displayName": "sathish kumar",
      "photoUrl": "",
      "userId": "09811313852492528034"
     },
     "user_tz": -330
    },
    "id": "esAOf5LfGB0p",
    "outputId": "9234bb8c-dda3-4b34-b445-09187ea4337b"
   },
   "outputs": [
    {
     "name": "stdout",
     "output_type": "stream",
     "text": [
      "Found 364 images belonging to 2 classes.\n"
     ]
    }
   ],
   "source": [
    "train_image_generator = ImageDataGenerator(rescale=1./255)  \n",
    "train_data_gen = train_image_generator.flow_from_directory(batch_size=batch_size,directory=train_dir,shuffle=True,target_size=(img_height, img_width),class_mode='categorical')"
   ]
  },
  {
   "cell_type": "code",
   "execution_count": 5,
   "metadata": {
    "colab": {
     "base_uri": "https://localhost:8080/"
    },
    "executionInfo": {
     "elapsed": 47836,
     "status": "ok",
     "timestamp": 1610791240619,
     "user": {
      "displayName": "sathish kumar",
      "photoUrl": "",
      "userId": "09811313852492528034"
     },
     "user_tz": -330
    },
    "id": "7HTI_-XaGB0s",
    "outputId": "040eb250-e8d5-4bdd-c603-6c6465ddbba2"
   },
   "outputs": [
    {
     "name": "stdout",
     "output_type": "stream",
     "text": [
      "Found 190 images belonging to 2 classes.\n"
     ]
    }
   ],
   "source": [
    "val_image_generator = ImageDataGenerator(rescale=1./255)  \n",
    "val_data_gen = val_image_generator .flow_from_directory(batch_size=batch_size,directory=test_dir,shuffle=True,target_size=(img_height, img_width),class_mode='categorical')"
   ]
  },
  {
   "cell_type": "code",
   "execution_count": 6,
   "metadata": {
    "executionInfo": {
     "elapsed": 47667,
     "status": "ok",
     "timestamp": 1610791240624,
     "user": {
      "displayName": "sathish kumar",
      "photoUrl": "",
      "userId": "09811313852492528034"
     },
     "user_tz": -330
    },
    "id": "-h4l7WpkGB0t"
   },
   "outputs": [],
   "source": [
    "import warnings\n",
    " \n",
    "\n",
    "import os\n",
    "import glob\n",
    "import matplotlib.pyplot as plt\n",
    "\n",
    "# Import Keras\n",
    "import keras\n",
    "from keras.models import Sequential\n",
    "from keras.layers import Dense,Dropout,Flatten\n",
    "from keras.layers import Conv2D,MaxPooling2D,Activation,AveragePooling2D,BatchNormalization\n",
    "from keras.preprocessing.image import ImageDataGenerator"
   ]
  },
  {
   "cell_type": "code",
   "execution_count": 7,
   "metadata": {
    "executionInfo": {
     "elapsed": 47463,
     "status": "ok",
     "timestamp": 1610791240626,
     "user": {
      "displayName": "sathish kumar",
      "photoUrl": "",
      "userId": "09811313852492528034"
     },
     "user_tz": -330
    },
    "id": "4qVhmZxwGB0t"
   },
   "outputs": [],
   "source": [
    "img_width,img_height =224,224\n",
    "input_shape=(img_width,img_height,3)"
   ]
  },
  {
   "cell_type": "code",
   "execution_count": 8,
   "metadata": {
    "colab": {
     "base_uri": "https://localhost:8080/"
    },
    "executionInfo": {
     "elapsed": 50123,
     "status": "ok",
     "timestamp": 1610791243514,
     "user": {
      "displayName": "sathish kumar",
      "photoUrl": "",
      "userId": "09811313852492528034"
     },
     "user_tz": -330
    },
    "id": "ysGVNMvEGB0u",
    "outputId": "07f1ce30-acfd-404b-a7c5-38c8ab3c87f9"
   },
   "outputs": [],
   "source": [
    "model = Sequential()\n",
    "model.add(Conv2D(32, (5, 5),input_shape=input_shape,activation='relu'))\n",
    "model.add(MaxPooling2D(pool_size=(3, 3)))\n",
    "model.add(Conv2D(32, (3, 3),activation='relu'))\n",
    "model.add(MaxPooling2D(pool_size=(2, 2)))\n",
    "model.add(Conv2D(64, (3, 3),activation='relu'))\n",
    "model.add(MaxPooling2D(pool_size=(2, 2)))   \n",
    "model.add(Flatten())\n",
    "model.add(Dense(512,activation='relu'))\n",
    "model.add(Dropout(0.25))\n",
    "model.add(Dense(128,activation='relu'))          \n",
    "model.add(Dense(2,activation='softmax'))"
   ]
  },
  {
   "cell_type": "code",
   "execution_count": 9,
   "metadata": {
    "executionInfo": {
     "elapsed": 49859,
     "status": "ok",
     "timestamp": 1610791243516,
     "user": {
      "displayName": "sathish kumar",
      "photoUrl": "",
      "userId": "09811313852492528034"
     },
     "user_tz": -330
    },
    "id": "fPFSImqHGB0u"
   },
   "outputs": [
    {
     "name": "stdout",
     "output_type": "stream",
     "text": [
      "Model: \"sequential\"\n",
      "_________________________________________________________________\n",
      " Layer (type)                Output Shape              Param #   \n",
      "=================================================================\n",
      " conv2d (Conv2D)             (None, 220, 220, 32)      2432      \n",
      "                                                                 \n",
      " max_pooling2d (MaxPooling2D  (None, 73, 73, 32)       0         \n",
      " )                                                               \n",
      "                                                                 \n",
      " conv2d_1 (Conv2D)           (None, 71, 71, 32)        9248      \n",
      "                                                                 \n",
      " max_pooling2d_1 (MaxPooling  (None, 35, 35, 32)       0         \n",
      " 2D)                                                             \n",
      "                                                                 \n",
      " conv2d_2 (Conv2D)           (None, 33, 33, 64)        18496     \n",
      "                                                                 \n",
      " max_pooling2d_2 (MaxPooling  (None, 16, 16, 64)       0         \n",
      " 2D)                                                             \n",
      "                                                                 \n",
      " flatten (Flatten)           (None, 16384)             0         \n",
      "                                                                 \n",
      " dense (Dense)               (None, 512)               8389120   \n",
      "                                                                 \n",
      " dropout (Dropout)           (None, 512)               0         \n",
      "                                                                 \n",
      " dense_1 (Dense)             (None, 128)               65664     \n",
      "                                                                 \n",
      " dense_2 (Dense)             (None, 2)                 258       \n",
      "                                                                 \n",
      "=================================================================\n",
      "Total params: 8,485,218\n",
      "Trainable params: 8,485,218\n",
      "Non-trainable params: 0\n",
      "_________________________________________________________________\n"
     ]
    }
   ],
   "source": [
    "model.summary()"
   ]
  },
  {
   "cell_type": "code",
   "execution_count": 10,
   "metadata": {
    "colab": {
     "base_uri": "https://localhost:8080/"
    },
    "executionInfo": {
     "elapsed": 49410,
     "status": "ok",
     "timestamp": 1610791243517,
     "user": {
      "displayName": "sathish kumar",
      "photoUrl": "",
      "userId": "09811313852492528034"
     },
     "user_tz": -330
    },
    "id": "MIX3MsZgGB0v",
    "outputId": "a6163d8e-0ad6-4049-9d97-45c4beafeb17"
   },
   "outputs": [],
   "source": [
    "model.compile(optimizer='adam',\n",
    "loss='categorical_crossentropy',\n",
    "metrics=['accuracy'])"
   ]
  },
  {
   "cell_type": "code",
   "execution_count": 11,
   "metadata": {
    "executionInfo": {
     "elapsed": 50040,
     "status": "ok",
     "timestamp": 1610791244482,
     "user": {
      "displayName": "sathish kumar",
      "photoUrl": "",
      "userId": "09811313852492528034"
     },
     "user_tz": -330
    },
    "id": "_n0Anzw2GB0w"
   },
   "outputs": [
    {
     "name": "stdout",
     "output_type": "stream",
     "text": [
      "Epoch 1/2\n",
      "364/364 [==============================] - 68s 176ms/step - loss: 0.2101 - accuracy: 0.9505 - val_loss: 0.0361 - val_accuracy: 0.9973\n",
      "Epoch 2/2\n",
      "364/364 [==============================] - 58s 158ms/step - loss: 0.0384 - accuracy: 0.9973 - val_loss: 0.1249 - val_accuracy: 0.9973\n"
     ]
    }
   ],
   "source": [
    "history = model.fit(train_data_gen, epochs=2,\n",
    "validation_data= val_data_gen,)"
   ]
  },
  {
   "cell_type": "code",
   "execution_count": 12,
   "metadata": {},
   "outputs": [],
   "source": [
    "import numpy as np"
   ]
  },
  {
   "cell_type": "code",
   "execution_count": 13,
   "metadata": {},
   "outputs": [
    {
     "name": "stdout",
     "output_type": "stream",
     "text": [
      "364/364 - 11s - 11s/epoch - 31ms/step\n"
     ]
    }
   ],
   "source": [
    "y=np.concatenate([val_data_gen.next()[1] for i in range(val_data_gen.__len__())])\n",
    "true_labels=np.argmax(y, axis=-1)\n",
    "prediction= model.predict(val_data_gen, verbose=2)\n",
    "prediction=np.argmax(prediction, axis=-1)"
   ]
  },
  {
   "cell_type": "code",
   "execution_count": 14,
   "metadata": {},
   "outputs": [],
   "source": [
    "def plot_confusion_matrix(cm, classes,\n",
    "                          normalize=False,\n",
    "                          title='Confusion matrix',\n",
    "                          cmap=plt.cm.Blues):\n",
    "    \"\"\"\n",
    "    This function prints and plots the confusion matrix.\n",
    "    Normalization can be applied by setting `normalize=True`.\n",
    "    \"\"\"\n",
    "    plt.imshow(cm, interpolation='nearest', cmap=cmap)\n",
    "    plt.title(title)\n",
    "    plt.colorbar()\n",
    "    tick_marks = np.arange(len(classes))\n",
    "    plt.xticks(tick_marks, classes, rotation=45)\n",
    "    plt.yticks(tick_marks, classes)\n",
    "\n",
    "    if normalize:\n",
    "        cm = cm.astype('float') / cm.sum(axis=1)[:, np.newaxis]\n",
    "        print(\"Normalized confusion matrix\")\n",
    "    else:\n",
    "        print('Confusion matrix, without normalization')\n",
    "\n",
    "    print(cm)\n",
    "\n",
    "    thresh = cm.max() / 2.\n",
    "    for i, j in itertools.product(range(cm.shape[0]), range(cm.shape[1])):\n",
    "        plt.text(j, i, cm[i, j],\n",
    "            horizontalalignment=\"center\",\n",
    "            color=\"white\" if cm[i, j] > thresh else \"black\")\n",
    "\n",
    "    plt.tight_layout()\n",
    "    plt.ylabel('True label')\n",
    "    plt.xlabel('Predicted label')"
   ]
  },
  {
   "cell_type": "code",
   "execution_count": 15,
   "metadata": {},
   "outputs": [],
   "source": [
    "from sklearn.metrics import confusion_matrix\n",
    "import itertools\n",
    "import matplotlib.pyplot as plt\n",
    "cm = confusion_matrix(y_true=true_labels, y_pred=prediction)"
   ]
  },
  {
   "cell_type": "code",
   "execution_count": 16,
   "metadata": {},
   "outputs": [],
   "source": [
    "cm_plot_labels = ['Cancerous','non-Cancerous']"
   ]
  },
  {
   "cell_type": "code",
   "execution_count": 17,
   "metadata": {},
   "outputs": [
    {
     "name": "stdout",
     "output_type": "stream",
     "text": [
      "Confusion matrix, without normalization\n",
      "[[238   0]\n",
      " [  1 125]]\n",
      "Accuracy: 0.997\n",
      "Precision: 1.000\n",
      "Recall: 0.997\n",
      "F-Measure: 0.997\n"
     ]
    },
    {
     "data": {
      "image/png": "[encoded data removed]",
      "text/plain": [
       "<Figure size 432x288 with 2 Axes>"
      ]
     },
     "metadata": {
      "needs_background": "light"
     },
     "output_type": "display_data"
    }
   ],
   "source": [
    "plot_confusion_matrix(cm=cm, classes=cm_plot_labels, title='Confusion Matrix')\n",
    "from sklearn.metrics import accuracy_score\n",
    "acc=accuracy_score(true_labels,prediction) \n",
    "print('Accuracy: %.3f' % acc)\n",
    "from sklearn.metrics import precision_score\n",
    "precision = precision_score(true_labels,prediction,labels=[1,2], average='micro')\n",
    "print('Precision: %.3f' % precision)\n",
    "from sklearn.metrics import recall_score\n",
    "recall = recall_score(true_labels,prediction, average='micro')\n",
    "print('Recall: %.3f' % recall)\n",
    "from sklearn.metrics import f1_score\n",
    "score = f1_score(true_labels,prediction, average='micro')\n",
    "print('F-Measure: %.3f' % score)"
   ]
  },
  {
   "cell_type": "code",
   "execution_count": 18,
   "metadata": {
    "executionInfo": {
     "elapsed": 1614,
     "status": "ok",
     "timestamp": 1610793863258,
     "user": {
      "displayName": "sathish kumar",
      "photoUrl": "",
      "userId": "09811313852492528034"
     },
     "user_tz": -330
    },
    "id": "rONFCJWgGB0x"
   },
   "outputs": [],
   "source": [
    "model.save('cancer.h5')"
   ]
  },
  {
   "cell_type": "code",
   "execution_count": null,
   "metadata": {},
   "outputs": [],
   "source": []
  }
 ],
 "metadata": {
  "colab": {
   "collapsed_sections": [],
   "name": "leaf.ipynb",
   "provenance": []
  },
  "kernelspec": {
   "display_name": "Python 3",
   "language": "python",
   "name": "python3"
  },
  "language_info": {
   "codemirror_mode": {
    "name": "ipython",
    "version": 3
   },
   "file_extension": ".py",
   "mimetype": "text/x-python",
   "name": "python",
   "nbconvert_exporter": "python",
   "pygments_lexer": "ipython3",
   "version": "3.8.8"
  }
 },
 "nbformat": 4,
 "nbformat_minor": 1
}
